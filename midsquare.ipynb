{
 "cells": [
  {
   "cell_type": "code",
   "execution_count": null,
   "metadata": {
    "collapsed": true
   },
   "outputs": [],
   "source": [
    "#Autor: Sergio Andres Murillo Jimenez   Codigo: 160002924\n",
    "import numpy as np\n",
    "import matplotlib.pyplot as plt\n",
    "import math\n",
    "def midsquare(numero,iteraciones):\n",
    "    list = []\n",
    "    for i in range(0,iteraciones): \n",
    "        if len(str(numero))%2==0:\n",
    "            total=int(numero)**2\n",
    "            valor=\"0.\"\n",
    "            rep=\"\"\n",
    "            ceros=\"\"\n",
    "            if len(str(total))%4!=0:\n",
    "                tot=((len(str(total))/4)+1)*4-len(str(total))\n",
    "                for k in range(0,tot):\n",
    "                    ceros+=\"0\"\n",
    "                num=ceros+str(total)\n",
    "            else:\n",
    "                num=str(total)\n",
    "            if len(num)!=len(str(numero)):\n",
    "                posI=len(str(numero))/2\n",
    "                posF=posI+len(str(numero))-1\n",
    "                for m in range (posI,posF+1):\n",
    "                    valor+=str(num)[m]\n",
    "                    rep+=str(num)[m]\n",
    "                #print valor\n",
    "                list.insert(i,float(valor))\n",
    "                numero=rep\n",
    "            else:\n",
    "                numero=num\n",
    "        else:\n",
    "            print \"debe ser par\"\n",
    "    return list"
   ]
  }
 ],
 "metadata": {
  "kernelspec": {
   "display_name": "Python 2",
   "language": "python",
   "name": "python2"
  },
  "language_info": {
   "codemirror_mode": {
    "name": "ipython",
    "version": 2
   },
   "file_extension": ".py",
   "mimetype": "text/x-python",
   "name": "python",
   "nbconvert_exporter": "python",
   "pygments_lexer": "ipython2",
   "version": "2.7.11"
  }
 },
 "nbformat": 4,
 "nbformat_minor": 0
}
