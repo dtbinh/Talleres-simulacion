{
 "cells": [
  {
   "cell_type": "markdown",
   "metadata": {},
   "source": [
    "# Generar variables aleatorias continuas y discretas por metodo de inversion "
   ]
  },
  {
   "cell_type": "code",
   "execution_count": null,
   "metadata": {
    "collapsed": false
   },
   "outputs": [
    {
     "name": "stdout",
     "output_type": "stream",
     "text": [
      "1. Generar V.A continuas por inversion continua\n",
      "2. Generar V.A discretas por inversion discreta\n"
     ]
    }
   ],
   "source": [
    "import numpy as np\n",
    "import matplotlib.pyplot as plt\n",
    "import math\n",
    "from matplotlib.pylab import hist, show\n",
    "def congruencial(a,b,m,x0,n):\n",
    "    xn=0.0\n",
    "    un=0.0\n",
    "    list = []\n",
    "    for i in range(0,n):\n",
    "        xn=(a*x0 + b)%m\n",
    "        un=xn/float(m)\n",
    "        #print un\n",
    "        list.insert(i,un)\n",
    "        x0=xn\n",
    "    return list\n",
    "def inversionDiscreta(n,met):\n",
    "    metodo=congruencial(89.0,56.0,2147483647.0,24.0,n)\n",
    "    funacu=[]\n",
    "    x=[]\n",
    "    px=[]\n",
    "    temp=0.0\n",
    "    funacu.append(0)\n",
    "    if met==1:\n",
    "        print 'entra'\n",
    "        lamda=input('Ingrese el valor para el parametro lamda')\n",
    "        for j in range(20):\n",
    "            x.append(j)\n",
    "            px.append(poisson(lamda,j)[j])\n",
    "    else:\n",
    "        if met==2:\n",
    "            p=input('Ingrese el valor para el parametro p')\n",
    "            for j in range(2):\n",
    "                x.append(j)\n",
    "                px.append(bernoulli(p,2)[j])\n",
    "        else:\n",
    "            if met==3:\n",
    "                p=input('Ingrese el valor para el parametro p')\n",
    "                for j in range(20):\n",
    "                    x.append(j)\n",
    "                    px.append(binomial(p,j)[j]) \n",
    "            else:\n",
    "                print 'Opcion no valida'\n",
    "    for i in range(len(px)):\n",
    "        temp+=px[i]\n",
    "        funacu.append(temp)\n",
    "    print 'Lista generada por inversion: '\n",
    "    histo=[]\n",
    "    for i in range(len(metodo)):\n",
    "        for j in range(len(funacu)-1):\n",
    "            if(metodo[i]>funacu[j] and metodo[i]<=funacu[j+1]):\n",
    "                histo.append(x[j])\n",
    "    plt.hist(histo)\n",
    "    plt.show()\n",
    "    print \"Variable aleatoria x con valor:\"\n",
    "    print x\n",
    "    print \"Probabilidad p(x)\"\n",
    "    print px\n",
    "    print \"Funcion de distribucion acumulada P(X)\"\n",
    "    print funacu\n",
    "    print \"Valores aleatorios dados por el generador congruencial\"\n",
    "    print metodo\n",
    "    \n",
    "def inversionContinua(n,met):\n",
    "    metodo=congruencial(89.0,56.0,2147483647.0,24.0,n)\n",
    "    if met==1:\n",
    "        lamda=input('Ingrese el valor para el parametro lamda')\n",
    "        exponencial(lamda,metodo)\n",
    "    else:\n",
    "        if met==2:\n",
    "            sigma=input('Ingrese el valor para el parametro sigma')\n",
    "            Rayleigh(sigma,metodo)\n",
    "        else:\n",
    "            if met==3:\n",
    "                miu=input('Ingrese el valor para el parametro miu')\n",
    "                b=input('Ingrese el valor para el parametro b')\n",
    "                laplace(miu,b,metodo)\n",
    "            else:\n",
    "                print('Opcion no valida')  \n",
    "def poisson(lamda,k):\n",
    "    arregloPos=[]\n",
    "    for i in range(1000):\n",
    "        val=(math.exp(-1*lamda)*(lamda**k)/math.factorial(k))+0.0\n",
    "        arregloPos.append(val)\n",
    "    return arregloPos\n",
    "def bernoulli(p,muestras):\n",
    "    arregloPos=[]\n",
    "    for i in range(muestras):\n",
    "        val=(p**i)*((1-p)**(1-i))\n",
    "        arregloPos.append(val)\n",
    "    return arregloPos\n",
    "def binomial(p,k):\n",
    "    arregloPos=[]\n",
    "    for i in range(1000):\n",
    "        comb=math.factorial(20)/math.factorial(k)*math.factorial(20-k)\n",
    "        val=comb*math.pow(p,k)*math.pow(1-p,20-k)\n",
    "        arregloPos.append(val)\n",
    "    return arregloPos\n",
    "def exponencial(lamda,lista):\n",
    "    mat=[]\n",
    "    for i in range(len(lista)):\n",
    "        inv=-1*math.log(1-lista[i])/lamda\n",
    "        mat.append(inv)\n",
    "        print 'p: ',lista[i]\n",
    "        print 'Q(p): ',inv\n",
    "        print '__________'\n",
    "    ##plt.plot(lista,mat)\n",
    "    plt.hist(mat)\n",
    "    plt.show()\n",
    "def Rayleigh(sigma,lista):\n",
    "    mat=[]\n",
    "    for i in range(len(lista)):\n",
    "        inv=sigma*math.pow(-1*math.log(math.pow(1-lista[i],2)),0.5)\n",
    "        mat.append(inv)\n",
    "        print 'p: ',lista[i]\n",
    "        print 'Q(p): ',inv\n",
    "        print '________'\n",
    "    plt.hist(mat)\n",
    "    #plt.plot(lista,mat)\n",
    "    plt.show()\n",
    "def laplace(miu,b,lista):\n",
    "    val=1\n",
    "    mat=[]\n",
    "    for i in range(len(lista)):\n",
    "        sgn=lista[i]-0.5\n",
    "        if sgn>0:\n",
    "            val=1\n",
    "        else:\n",
    "            if sgn==0:\n",
    "                val=0\n",
    "            else:\n",
    "                if sgn<0:\n",
    "                    val=-1\n",
    "        inv=miu-b*val*math.log(1-2*abs(lista[i]-0.5))\n",
    "        mat.append(inv)\n",
    "        print 'p: ',lista[i]\n",
    "        print 'Q(p): ',inv\n",
    "        print '________'\n",
    "    plt.hist(mat)\n",
    "    #plt.plot(lista,mat)\n",
    "    plt.show()    \n",
    "print('1. Generar V.A continuas por inversion continua')\n",
    "print('2. Generar V.A discretas por inversion discreta')\n",
    "tipoInv=input('Que tipo de generador de V.A desea?')\n",
    "if tipoInv==1:\n",
    "    print('1. Exponencial')\n",
    "    print('2. Rayleigh')\n",
    "    print('3. Laplace')\n",
    "    metodo=input('Seleccione la distribucion para el metodo de inversion continuo')\n",
    "    num=input('Ingrese la cantidad de numeros aleatorios que desea generar')\n",
    "    inversionContinua(num,metodo)\n",
    "else:\n",
    "    if tipoInv==2:\n",
    "        print('1. Poisson')\n",
    "        print('2. Bernoulli')\n",
    "        print('3. Binomial')\n",
    "        metodoDis=input('Seleccione la distribucion para el metodo de inversion discreto')\n",
    "        numDi=input('Ingrese la cantidad de numeros aleatorios que desea generar')\n",
    "        inversionDiscreta(numDi,metodoDis)\n",
    "    else:\n",
    "        print('Opcion no valida')"
   ]
  },
  {
   "cell_type": "code",
   "execution_count": 47,
   "metadata": {
    "collapsed": false
   },
   "outputs": [
    {
     "data": {
      "text/plain": [
       "[1.0, 0.5]"
      ]
     },
     "execution_count": 47,
     "metadata": {},
     "output_type": "execute_result"
    }
   ],
   "source": [
    "binomial(0.5,2)"
   ]
  },
  {
   "cell_type": "code",
   "execution_count": null,
   "metadata": {
    "collapsed": true
   },
   "outputs": [],
   "source": []
  },
  {
   "cell_type": "code",
   "execution_count": null,
   "metadata": {
    "collapsed": true
   },
   "outputs": [],
   "source": []
  },
  {
   "cell_type": "code",
   "execution_count": null,
   "metadata": {
    "collapsed": true
   },
   "outputs": [],
   "source": []
  }
 ],
 "metadata": {
  "kernelspec": {
   "display_name": "Python 2",
   "language": "python",
   "name": "python2"
  },
  "language_info": {
   "codemirror_mode": {
    "name": "ipython",
    "version": 2
   },
   "file_extension": ".py",
   "mimetype": "text/x-python",
   "name": "python",
   "nbconvert_exporter": "python",
   "pygments_lexer": "ipython2",
   "version": "2.7.11"
  }
 },
 "nbformat": 4,
 "nbformat_minor": 0
}
