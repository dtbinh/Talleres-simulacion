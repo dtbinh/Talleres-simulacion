{
 "cells": [
  {
   "cell_type": "code",
   "execution_count": 6,
   "metadata": {
    "collapsed": false
   },
   "outputs": [
    {
     "name": "stdout",
     "output_type": "stream",
     "text": [
      "Ingrese el numero de valores que tomara la variable aleatoria2\n",
      "Ingrese el valor para la variable aleatoria: 1\n",
      "Ingrese el valor de la probabilidad0.5\n",
      "Ingrese el valor para la variable aleatoria: 2\n",
      "Ingrese el valor de la probabilidad0.5\n",
      "Lista final: \n",
      "1\n",
      "1\n",
      "1\n",
      "2\n",
      "1\n",
      "1\n",
      "2\n",
      "1\n",
      "2\n",
      "2\n",
      "Variable aleatoria x con valor:\n",
      "[1, 2]\n",
      "Probabilidad p(x)\n",
      "[0.5, 0.5]\n",
      "Funcion de distribucion acumulada P(X)\n",
      "[0, 0.5, 1.0]\n",
      "Valores aleatorios dados por el generador\n",
      "[1.0207295422538787e-06, 9.087100629269658e-05, 0.008087545637082097, 0.7197915877773388, 0.06145133826017908, 0.46916913123297, 0.7560527058113612, 0.28869084328817707, 0.6934850787247927, 0.720172032583585]\n"
     ]
    }
   ],
   "source": [
    "import numpy as np\n",
    "import matplotlib.pyplot as plt\n",
    "import math\n",
    "def congruencial(a,b,m,x0,n):\n",
    "    xn=0.0\n",
    "    un=0.0\n",
    "    list = []\n",
    "    for i in range(0,n):\n",
    "        xn=(a*x0 + b)%m\n",
    "        un=xn/float(m)\n",
    "        #print un\n",
    "        list.insert(i,un)\n",
    "        x0=xn\n",
    "    return list\n",
    "def inversion(n,x,px):\n",
    "    metodo=congruencial(89.0,56.0,2147483647.0,24.0,n)\n",
    "    funacu=[]\n",
    "    temp=0.0\n",
    "    funacu.append(0)\n",
    "\n",
    "    for i in range(len(px)):\n",
    "        temp+=px[i]\n",
    "        funacu.append(temp)\n",
    "    print 'Lista generada por inversion: '\n",
    "    for i in range(len(metodo)):\n",
    "        for j in range(len(funacu)-1):\n",
    "            if(metodo[i]>funacu[j] and metodo[i]<=funacu[j+1]):\n",
    "                print x[j]\n",
    "    print \"Variable aleatoria x con valor:\"\n",
    "    print x\n",
    "    print \"Probabilidad p(x)\"\n",
    "    print px\n",
    "    print \"Funcion de distribucion acumulada P(X)\"\n",
    "    print funacu\n",
    "    print \"Valores aleatorios dados por el generador congruencial\"\n",
    "    print metodo\n",
    "num=input('Ingrese el numero de valores que tomara la variable aleatoria')  \n",
    "x=[]\n",
    "px=[]\n",
    "for i in range(num):\n",
    "    val=input('Ingrese el valor para la variable aleatoria: ')\n",
    "    prom=input('Ingrese el valor de la probabilidad')\n",
    "    x.append(val)\n",
    "    px.append(prom+0.0)\n",
    "muestras=input('Ingrese la cantidad de numeros aleatorios que desea:')\n",
    "inversion(muestras,x,px)    \n"
   ]
  },
  {
   "cell_type": "code",
   "execution_count": null,
   "metadata": {
    "collapsed": true
   },
   "outputs": [],
   "source": []
  },
  {
   "cell_type": "code",
   "execution_count": null,
   "metadata": {
    "collapsed": true
   },
   "outputs": [],
   "source": []
  }
 ],
 "metadata": {
  "kernelspec": {
   "display_name": "Python 2",
   "language": "python",
   "name": "python2"
  },
  "language_info": {
   "codemirror_mode": {
    "name": "ipython",
    "version": 2
   },
   "file_extension": ".py",
   "mimetype": "text/x-python",
   "name": "python",
   "nbconvert_exporter": "python",
   "pygments_lexer": "ipython2",
   "version": "2.7.11"
  }
 },
 "nbformat": 4,
 "nbformat_minor": 0
}
