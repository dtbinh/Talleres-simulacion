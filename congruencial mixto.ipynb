{
 "cells": [
  {
   "cell_type": "code",
   "execution_count": null,
   "metadata": {
    "collapsed": true
   },
   "outputs": [],
   "source": [
    "# Metodo congruencial mixto\n",
    "### La siguiente es la implementaciòn del metodo congruencial mixto para generar un determinado conjunto de numeros pseudoaleatorios de acuerdo a los siguientes pasos:\n",
    "### a) Seleccionar un valor para el parametro a de la funcion recursiva \n",
    "### b) Seleccionar un valor para el parametro b de la funcion recursiva \n",
    "### c) Seleccionar un valor para el parametro m de la funcion recursiva. Se recomienda que dicho valor sea impar, primo y grande para que el comportamiento del generador siga la distribucion uniforme \n",
    "### d) El proximo numero pseudoaleatorio es generado a partir del anterior ya que es recurrente\n",
    "\n",
    "import numpy as np\n",
    "import matplotlib.pyplot as plt\n",
    "import math\n",
    "def congruencial(a,b,m,x0,n):\n",
    "    xn=0.0\n",
    "    un=0.0\n",
    "    list = []\n",
    "    for i in range(0,n):\n",
    "        xn=(a*x0 + b)%m\n",
    "        un=xn/float(m)\n",
    "        #print un\n",
    "        list.insert(i,un)\n",
    "        x0=xn\n",
    "    return list\n",
    "a= input('Ingrese el parametro a:')\n",
    "b= input('Ingrese el parametro b:')\n",
    "m= input('Ingrese el parametro m:')\n",
    "x0= input('Ingrese la semilla:')\n",
    "muestra= input('Ingrese el numero de numeros aleatorios que desea generar:')\n",
    "congruencial(a,b,m,x0,muestra)"
   ]
  }
 ],
 "metadata": {
  "kernelspec": {
   "display_name": "Python 2",
   "language": "python",
   "name": "python2"
  },
  "language_info": {
   "codemirror_mode": {
    "name": "ipython",
    "version": 2
   },
   "file_extension": ".py",
   "mimetype": "text/x-python",
   "name": "python",
   "nbconvert_exporter": "python",
   "pygments_lexer": "ipython2",
   "version": "2.7.11"
  }
 },
 "nbformat": 4,
 "nbformat_minor": 0
}
